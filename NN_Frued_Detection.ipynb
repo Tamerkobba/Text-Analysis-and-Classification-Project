{
 "cells": [
  {
   "cell_type": "markdown",
   "metadata": {},
   "source": [
    "# NECESSARY IMPORTS"
   ]
  },
  {
   "cell_type": "code",
   "execution_count": null,
   "metadata": {},
   "outputs": [],
   "source": [
    "import numpy as np\n",
    "import pandas as pd\n",
    "from sentence_transformers import SentenceTransformer, util\n",
    "from keras.models import Sequential, load_model\n",
    "from keras.layers import Dense\n",
    "from sklearn.model_selection import train_test_split\n",
    "from sklearn.metrics import (\n",
    "    accuracy_score, \n",
    "    precision_score, \n",
    "    recall_score, \n",
    "    f1_score, \n",
    "    confusion_matrix, \n",
    "    roc_curve, \n",
    "    auc\n",
    ")\n",
    "import seaborn as sns\n",
    "import matplotlib.pyplot as plt\n",
    "from gensim.models import Word2Vec"
   ]
  },
  {
   "cell_type": "markdown",
   "metadata": {},
   "source": [
    "# DATA COLLECTION"
   ]
  },
  {
   "cell_type": "code",
   "execution_count": null,
   "metadata": {},
   "outputs": [],
   "source": [
    "def clean_text(text):\n",
    "    cleaned_text = text.replace('\\\\', ' ').replace('\\n', ' ')\n",
    "    return cleaned_text.strip()\n",
    "\n",
    "def extract_text_by_chapter(pdf_path):\n",
    "    chapters = {}\n",
    "    current_chapter = \"\"\n",
    "\n",
    "    for page_layout in extract_pages(pdf_path):\n",
    "        for element in page_layout:\n",
    "            if isinstance(element, LTTextContainer):\n",
    "                text = element.get_text().strip()\n",
    "                cleaned_text = clean_text(text) \n",
    "                if cleaned_text.isupper() and len(cleaned_text.split()) > 1: \n",
    "                    current_chapter = cleaned_text\n",
    "                    chapters[current_chapter] = []\n",
    "                elif current_chapter:\n",
    "                 \n",
    "                    sentences = re.split(r'(?<=[.!?]) +', cleaned_text)\n",
    "                    chapters[current_chapter].extend(sentences)\n",
    "\n",
    "    return chapters\n",
    "pdf_path =r\"Sigmund-Freud-The-Complete-Works.pdf\"\n",
    "chapters = extract_text_by_chapter(pdf_path)\n",
    "\n",
    "structured_data = {\"Sentences\": chapters}\n",
    "\n",
    "json_data = json.dumps(structured_data, indent=4)  \n",
    "\n",
    "\n",
    "with open('Uncleaned_text.json', 'w') as file:\n",
    "    file.write(json_data)"
   ]
  },
  {
   "cell_type": "markdown",
   "metadata": {},
   "source": [
    "# DATA CLEANING"
   ]
  },
  {
   "cell_type": "code",
   "execution_count": null,
   "metadata": {},
   "outputs": [],
   "source": [
    "with open(\"Cleaned_data.json\") as file:\n",
    "    train_data = json.load(file)\n",
    "\n",
    "dict_data = {\n",
    "    \"sentence\": [],\n",
    "    \"class\": []\n",
    "}\n",
    "\n",
    "for book, chapters in train_data.items():\n",
    "    for chapter, sentences in chapters.items():\n",
    "        for sentence in sentences:\n",
    "            dict_data[\"sentence\"].append(sentence)\n",
    "            dict_data[\"class\"].append(1)  \n",
    "\n",
    "train_df = pd.DataFrame(dict_data)\n",
    "print(train_df.head())\n",
    "train_df.to_csv(\"dataset.csv\")\n",
    "\n",
    "def drop_rows_with_integer_in_first_column(csv_file):\n",
    "    df = pd.read_csv(csv_file)\n",
    "    first_column = df.iloc[:, 1]\n",
    "    def is_integer(value):\n",
    "        try:\n",
    "            int(value)\n",
    "            return True\n",
    "        except ValueError:\n",
    "            return False\n",
    "\n",
    "    non_integer_mask = ~first_column.apply(is_integer)\n",
    "    filtered_df = df[non_integer_mask]\n",
    "\n",
    "    return filtered_df\n",
    "\n",
    "filtered_df = drop_rows_with_integer_in_first_column(\"dataset.csv\")\n",
    "no_df = pd.read_csv(\"tweet_emotions.csv\")\n",
    "\n",
    "no_df[\"class\"] = 0\n",
    "\n",
    "no_df = no_df[[\"content\", \"class\"]]\n",
    "\n",
    "no_df.rename(columns={'content': 'sentence'}, inplace=True)\n",
    "\n",
    "final_df = pd.concat([filtered_df, no_df]).reset_index(drop=True)\n",
    "\n",
    "final_df.to_csv(\"final_dataset.csv\")"
   ]
  },
  {
   "cell_type": "markdown",
   "metadata": {},
   "source": [
    "# READING DATA"
   ]
  },
  {
   "cell_type": "code",
   "execution_count": null,
   "metadata": {},
   "outputs": [],
   "source": [
    "SIZE_OF_DATA = 0.33\n",
    "EPOCHS = 10\n",
    "BATCH_SIZE = 32\n",
    "CLASSIFICATION_THRESHOLD = 0.5"
   ]
  },
  {
   "cell_type": "code",
   "execution_count": null,
   "metadata": {},
   "outputs": [],
   "source": [
    "df = pd.read_csv(r\"Final_dataset.csv\")\n",
    "df"
   ]
  },
  {
   "cell_type": "code",
   "execution_count": null,
   "metadata": {},
   "outputs": [],
   "source": [
    "\n",
    "df = df.sample(frac=SIZE_OF_DATA).reset_index(drop=True)\n",
    "len(df)\n"
   ]
  },
  {
   "cell_type": "markdown",
   "metadata": {},
   "source": [
    "# Computing Raw Setnence Embeddings"
   ]
  },
  {
   "cell_type": "markdown",
   "metadata": {},
   "source": [
    "## SBERT with all-MiniLM-L6-v2"
   ]
  },
  {
   "cell_type": "code",
   "execution_count": null,
   "metadata": {},
   "outputs": [],
   "source": [
    "sbert_encoder = SentenceTransformer('all-MiniLM-L6-v2')\n",
    "sbert_embeddings = sbert_encoder.encode(df[\"sentence\"])\n",
    "sbert_embeddings.shape\n",
    "np.save(\"sbert_Sentence_embeddings.npy\", sbert_embeddings)"
   ]
  },
  {
   "cell_type": "code",
   "execution_count": null,
   "metadata": {},
   "outputs": [],
   "source": [
    "assert len(sbert_embeddings) == len(labels)"
   ]
  },
  {
   "cell_type": "markdown",
   "metadata": {},
   "source": [
    "## Word2Vec"
   ]
  },
  {
   "cell_type": "code",
   "execution_count": null,
   "metadata": {},
   "outputs": [],
   "source": [
    "df['tokenized_sentences'] = df['sentence'].apply(lambda x: x.split()if not isinstance(x, float) else [] )\n",
    "\n",
    "data = df['tokenized_sentences'].tolist()\n",
    "model = Word2Vec(data, window=5, min_count=1, workers=4)\n",
    "def sentence_embedding(sentence):\n",
    "    # Check if the sentence is a float or int, and if so, return a zero vector\n",
    "    if isinstance(sentence, (float, int)):\n",
    "        return np.zeros(384)\n",
    "    words = sentence.split()\n",
    "    word_embeddings = [model.wv[word] for word in words if word in model.wv]\n",
    "    if len(word_embeddings) == 0:\n",
    "        return np.zeros(384)\n",
    "    # Averaging the word vectors to create a sentence vector\n",
    "    sentence_embedding = np.mean(word_embeddings, axis=0)\n",
    "    return sentence_embedding"
   ]
  },
  {
   "cell_type": "markdown",
   "metadata": {},
   "source": [
    "# Alignment Classification with Neural Networks"
   ]
  },
  {
   "cell_type": "code",
   "execution_count": null,
   "metadata": {},
   "outputs": [],
   "source": [
    "labels = np.array(list(df[\"class\"]))\n",
    "# Change parameter to test different embeddings\n",
    "X_train, X_test, y_train, y_test = train_test_split(sbert_embeddings, labels, test_size=0.2, random_state=42)\n",
    "X_train = np.array(X_train.tolist())\n",
    "X_test = np.array(X_test.tolist())\n",
    "\n",
    "# Now, print the shapes again to confirm they are correctly formatted\n",
    "print(\"X_train shape:\", X_train.shape)\n",
    "print(\"X_test shape:\", X_test.shape)\n",
    "print(type(X_train))\n",
    "print(type(X_test))\n",
    "print(type(y_train))\n",
    "print(type(y_test))\n",
    "print(X_train.shape)\n",
    "print(X_test.shape)\n",
    "print(len(y_train))\n",
    "print(len(y_test))\n",
    "y_train = np.array(y_train)\n",
    "y_test = np.array(y_test)"
   ]
  },
  {
   "cell_type": "code",
   "execution_count": null,
   "metadata": {},
   "outputs": [],
   "source": [
    "input_dim = 384  # Size of embeddings\n",
    "\n",
    "model = Sequential()\n",
    "model.add(Dense(128, input_dim=input_dim, activation='relu'))\n",
    "model.add(Dense(1, activation='sigmoid'))"
   ]
  },
  {
   "cell_type": "code",
   "execution_count": null,
   "metadata": {},
   "outputs": [],
   "source": [
    "model.summary()"
   ]
  },
  {
   "cell_type": "code",
   "execution_count": null,
   "metadata": {},
   "outputs": [],
   "source": [
    "model.compile(loss='binary_crossentropy', optimizer='adam', metrics=['accuracy'])"
   ]
  },
  {
   "cell_type": "code",
   "execution_count": null,
   "metadata": {},
   "outputs": [],
   "source": [
    "model.fit(X_train, y_train, epochs=EPOCHS, batch_size=BATCH_SIZE)"
   ]
  },
  {
   "cell_type": "markdown",
   "metadata": {},
   "source": [
    "# Evaluation & Metrics"
   ]
  },
  {
   "cell_type": "code",
   "execution_count": null,
   "metadata": {},
   "outputs": [],
   "source": [
    "y_pred = model.predict(X_test)\n",
    "y_pred_bin = (y_pred > CLASSIFICATION_THRESHOLD).astype(int)\n",
    "\n",
    "accuracy = accuracy_score(y_test, y_pred_bin)\n",
    "precision = precision_score(y_test, y_pred_bin, average='macro')\n",
    "recall = recall_score(y_test, y_pred_bin, average='macro')\n",
    "f1 = f1_score(y_test, y_pred_bin, average='macro')\n",
    "conf_matrix = confusion_matrix(y_test, y_pred_bin)\n",
    "\n",
    "print('Accuracy: %.3f' % accuracy)\n",
    "print('Precision: %.3f' % precision)\n",
    "print('Recall: %.3f' % recall)\n",
    "print('F1 Score: %.3f' % f1)\n",
    "print('Confusion Matrix:')\n",
    "\n",
    "  "
   ]
  },
  {
   "cell_type": "code",
   "execution_count": null,
   "metadata": {},
   "outputs": [],
   "source": [
    "\n",
    "def draw_conf(conf_matrix):\n",
    "    plt.figure(figsize=(8, 6))\n",
    "    sns.heatmap(conf_matrix, annot=True, fmt=\"d\", cmap=\"magma\", cbar=False,\n",
    "                xticklabels=['Predicted Negative', 'Predicted Positive'],\n",
    "                yticklabels=['Actual Negative', 'Actual Positive'])\n",
    "    plt.xlabel('Predicted Label')\n",
    "    plt.ylabel('True Label')\n",
    "    plt.title('Confusion Matrix')\n",
    "    plt.show()\n",
    "\n",
    "\n",
    "draw_conf(conf_matrix)"
   ]
  },
  {
   "cell_type": "code",
   "execution_count": null,
   "metadata": {},
   "outputs": [],
   "source": [
    "\n",
    "def draw_roc(y_test, y_pred):\n",
    "    fpr, tpr, _ = roc_curve(y_test, y_pred)\n",
    "    roc_auc = auc(fpr, tpr)\n",
    "\n",
    "    plt.figure()\n",
    "    plt.plot(fpr, tpr, color='darkorange', lw=2, label='ROC curve (area = %0.2f)' % roc_auc)\n",
    "    plt.plot([0, 1], [0, 1], color='purple', lw=2, linestyle='--')\n",
    "    plt.xlim([0.0, 1.0])\n",
    "    plt.ylim([0.0, 1.05])\n",
    "    plt.xlabel('False Positive Rate')\n",
    "    plt.ylabel('True Positive Rate')\n",
    "    plt.title('Receiver Operating Characteristic')\n",
    "    plt.legend(loc=\"lower right\")\n",
    "    plt.show()  \n",
    "\n",
    "    draw_roc(y_test, y_pred)"
   ]
  }
 ],
 "metadata": {
  "language_info": {
   "name": "python"
  }
 },
 "nbformat": 4,
 "nbformat_minor": 2
}
